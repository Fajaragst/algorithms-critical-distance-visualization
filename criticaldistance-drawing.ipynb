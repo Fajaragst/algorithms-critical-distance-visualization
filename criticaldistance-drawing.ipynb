{
 "metadata": {
  "name": "",
  "signature": "sha256:925f02b60db0a251af0bab922f450f6ab11b5041f35a29600904221773112dbb"
 },
 "nbformat": 3,
 "nbformat_minor": 0,
 "worksheets": [
  {
   "cells": [
    {
     "cell_type": "code",
     "collapsed": false,
     "input": [
      "import svgwrite"
     ],
     "language": "python",
     "metadata": {},
     "outputs": [],
     "prompt_number": 1
    },
    {
     "cell_type": "code",
     "collapsed": false,
     "input": [],
     "language": "python",
     "metadata": {},
     "outputs": [],
     "prompt_number": 2
    },
    {
     "cell_type": "code",
     "collapsed": false,
     "input": [
      "methods_and_scores = {\n",
      "    'BR': 3,\n",
      "    'LP': 4,\n",
      "    'mlg-lp-unweighted': 2.4444,\n",
      "    'mlg-lp': 1.7778,\n",
      "    'RAKEL1': 7,\n",
      "    'RAKEL2': 5.8889,\n",
      "    'MLkNN': 6.1111,\n",
      "    'BPMLL': 6.7778,\n",
      "    'CLR': 8,\n",
      "}"
     ],
     "language": "python",
     "metadata": {},
     "outputs": [],
     "prompt_number": 3
    },
    {
     "cell_type": "code",
     "collapsed": false,
     "input": [
      "method_count = len(methods_and_scores)\n",
      "# well we have to compare more than one method\n",
      "assert (method_count > 1) "
     ],
     "language": "python",
     "metadata": {},
     "outputs": [],
     "prompt_number": 7
    },
    {
     "cell_type": "code",
     "collapsed": false,
     "input": [
      "sorted_methods[4]"
     ],
     "language": "python",
     "metadata": {},
     "outputs": [
      {
       "metadata": {},
       "output_type": "pyout",
       "prompt_number": 584,
       "text": [
        "'RAKEL2'"
       ]
      }
     ],
     "prompt_number": 584
    },
    {
     "cell_type": "code",
     "collapsed": false,
     "input": [
      "critical_lines = [[1,4], [2,6]]"
     ],
     "language": "python",
     "metadata": {},
     "outputs": [],
     "prompt_number": 575
    },
    {
     "cell_type": "code",
     "collapsed": false,
     "input": [
      "sorted_methods = sorted(methods_and_scores, key=lambda x: methods_and_scores[x])"
     ],
     "language": "python",
     "metadata": {},
     "outputs": [],
     "prompt_number": 576
    },
    {
     "cell_type": "code",
     "collapsed": false,
     "input": [
      "font_height = 14\n",
      "margin_ltbr = [70, 4*font_height, font_height, font_height]\n",
      "main_line_color = svgwrite.rgb(10, 10, 16, '%')\n",
      "text_color = 'red'\n",
      "critical_line_color = 'orange'\n",
      "\n",
      "# interval between methods\n",
      "line_height = 1.5*font_height\n",
      "interval_size = font_height*1.5\n",
      "interval_height = font_height*0.33\n",
      "# assume that 100px = 100%\n",
      "size = interval_size*(method_count-1)\n",
      "\n",
      "number_of_critical_lines = len(critical_lines)\n",
      "critical_line_space = number_of_critical_lines*line_height\n",
      "item_space = 1.5*line_height"
     ],
     "language": "python",
     "metadata": {},
     "outputs": [],
     "prompt_number": 598
    },
    {
     "cell_type": "code",
     "collapsed": false,
     "input": [
      "critical_distance = size * max([methods_and_scores[sorted_methods[x[1]]]-methods_and_scores[sorted_methods[x[0]]] for x in critical_lines])/float(method_count)"
     ],
     "language": "python",
     "metadata": {},
     "outputs": [],
     "prompt_number": 605
    },
    {
     "cell_type": "code",
     "collapsed": false,
     "input": [
      "dwg = svgwrite.Drawing('test.svg', profile='tiny')"
     ],
     "language": "python",
     "metadata": {},
     "outputs": [],
     "prompt_number": 664
    },
    {
     "cell_type": "code",
     "collapsed": false,
     "input": [
      "for interval_line_number in range(method_count):\n",
      "    x_i = int(interval_size * interval_line_number)\n",
      "    rank = method_count - interval_line_number\n",
      "    text_element = svgwrite.text.Text(\n",
      "            str(rank), \n",
      "            x = [margin_ltbr[0] + x_i],\n",
      "            y = [margin_ltbr[1] + font_height], fill=text_color)\n",
      "    text_element[\"text-anchor\"] = \"middle\"\n",
      "    dwg.add(text_element)\n",
      "\n",
      "    dwg.add(\n",
      "        svgwrite.shapes.Line(\n",
      "            (x_i+margin_ltbr[0], 4+font_height+margin_ltbr[1]), \n",
      "            (x_i+margin_ltbr[0], 4.5+font_height+interval_height+margin_ltbr[1]), \n",
      "            stroke=main_line_color))\n",
      "    \n",
      "    method_position = size * methods_and_scores[sorted_methods[interval_line_number]]/float(method_count)\n",
      "    method_vertical_end = (method_position+margin_ltbr[0], 4+font_height+margin_ltbr[1])\n",
      "    anchor = \"start\"\n",
      "    if (rank > ceil(0.5*method_count)):\n",
      "        method_horizontal_end = 0+margin_ltbr[0]\n",
      "        method_junction = critical_line_space+(rank-ceil(0.5*method_count))*item_space+margin_ltbr[1]\n",
      "        anchor = \"end\"\n",
      "    else:\n",
      "        method_horizontal_end = size+margin_ltbr[0]\n",
      "        method_junction = critical_line_space+rank*item_space+margin_ltbr[1]\n",
      "        anchor = \"start\"\n",
      "    \n",
      "    \n",
      "    dwg.add(\n",
      "            svgwrite.shapes.Line(\n",
      "                method_vertical_end, \n",
      "                (method_vertical_end[0], method_junction), \n",
      "                stroke=main_line_color))\n",
      "\n",
      "    dwg.add(\n",
      "            svgwrite.shapes.Line(\n",
      "                (method_horizontal_end, method_junction), \n",
      "                (method_vertical_end[0], method_junction), \n",
      "                stroke=main_line_color))\n",
      "    \n",
      "    text_element = svgwrite.text.Text(\n",
      "            str(sorted_methods[rank-1]), \n",
      "            x = [method_horizontal_end],\n",
      "            y = [method_junction], fill=text_color)\n",
      "    text_element[\"text-anchor\"] = anchor\n",
      "    dwg.add(text_element)\n",
      "\n",
      "for i in xrange(len(critical_lines)):\n",
      "    critical_line = critical_lines[i]\n",
      "    method_position_left = 0+margin_ltbr[0] + size * methods_and_scores[sorted_methods[method_count-critical_line[0]]]/float(method_count)\n",
      "    method_position_right = 0+margin_ltbr[0] +  size * methods_and_scores[sorted_methods[method_count-critical_line[1]]]/float(method_count)\n",
      "    \n",
      "    dwg.add(\n",
      "            svgwrite.shapes.Line(\n",
      "                (method_position_left, 4+font_height+interval_height+margin_ltbr[1]+(i+.5)*line_height*.5), \n",
      "                (method_position_right, 4+font_height+interval_height+margin_ltbr[1]+(i+.5)*line_height*.5), \n",
      "                stroke=critical_line_color))\n",
      "    \n",
      "    dwg.add(\n",
      "    svgwrite.shapes.Line(\n",
      "        (method_position_left, 4+font_height+interval_height+margin_ltbr[1]+(i+.25)*line_height*.5), \n",
      "        (method_position_left, 4+font_height+interval_height+margin_ltbr[1]+(i+.75)*line_height*.5), \n",
      "        stroke=critical_line_color))\n",
      "\n",
      "    dwg.add(\n",
      "        svgwrite.shapes.Line(\n",
      "            (method_position_right, 4+font_height+interval_height+margin_ltbr[1]+(i+.25)*line_height*.5), \n",
      "            (method_position_right, 4+font_height+interval_height+margin_ltbr[1]+(i+.75)*line_height*.5), \n",
      "            stroke=critical_line_color))\n",
      "    \n",
      "\n",
      "text_element = svgwrite.text.Text(\n",
      "            \"Critical distance {}\".format(str(critical_distance)), \n",
      "            x = [0+margin_ltbr[0]],\n",
      "            y = [2.5*font_height], fill=critical_line_color)\n",
      "dwg.add(text_element) \n",
      "    \n",
      "dwg.add(\n",
      "    svgwrite.shapes.Line(\n",
      "        (0+margin_ltbr[0], 3*font_height), \n",
      "        (critical_distance+margin_ltbr[0], 3*font_height),\n",
      "        stroke=critical_line_color))\n",
      "dwg.add(\n",
      "    svgwrite.shapes.Line(\n",
      "        (0+margin_ltbr[0], 2.75*font_height), \n",
      "        (0+margin_ltbr[0], 3.25*font_height),\n",
      "        stroke=critical_line_color))\n",
      "\n",
      "dwg.add(\n",
      "    svgwrite.shapes.Line(\n",
      "        (critical_distance+margin_ltbr[0], 2.75*font_height), \n",
      "        (critical_distance+margin_ltbr[0], 3.25*font_height),\n",
      "        stroke=critical_line_color))\n",
      "\n",
      "\n",
      "dwg.add(\n",
      "    svgwrite.shapes.Line(\n",
      "        (0+margin_ltbr[0], 4+font_height+interval_height+margin_ltbr[1]), \n",
      "        (size+margin_ltbr[0], 4+font_height+interval_height+margin_ltbr[1]),\n",
      "        stroke=main_line_color))"
     ],
     "language": "python",
     "metadata": {},
     "outputs": [
      {
       "metadata": {},
       "output_type": "pyout",
       "prompt_number": 665,
       "text": [
        "<svgwrite.shapes.Line at 0x7f244a20b110>"
       ]
      }
     ],
     "prompt_number": 665
    },
    {
     "cell_type": "code",
     "collapsed": false,
     "input": [
      "dwg.save()"
     ],
     "language": "python",
     "metadata": {},
     "outputs": [],
     "prompt_number": 666
    },
    {
     "cell_type": "code",
     "collapsed": false,
     "input": [],
     "language": "python",
     "metadata": {},
     "outputs": [],
     "prompt_number": 612
    },
    {
     "cell_type": "code",
     "collapsed": false,
     "input": [],
     "language": "python",
     "metadata": {},
     "outputs": [],
     "prompt_number": 527
    },
    {
     "cell_type": "code",
     "collapsed": false,
     "input": [],
     "language": "python",
     "metadata": {},
     "outputs": [],
     "prompt_number": 469
    },
    {
     "cell_type": "code",
     "collapsed": false,
     "input": [],
     "language": "python",
     "metadata": {},
     "outputs": [],
     "prompt_number": 517
    },
    {
     "cell_type": "code",
     "collapsed": false,
     "input": [],
     "language": "python",
     "metadata": {},
     "outputs": [],
     "prompt_number": 517
    },
    {
     "cell_type": "code",
     "collapsed": false,
     "input": [],
     "language": "python",
     "metadata": {},
     "outputs": [],
     "prompt_number": 517
    },
    {
     "cell_type": "code",
     "collapsed": false,
     "input": [],
     "language": "python",
     "metadata": {},
     "outputs": []
    },
    {
     "cell_type": "code",
     "collapsed": false,
     "input": [],
     "language": "python",
     "metadata": {},
     "outputs": []
    }
   ],
   "metadata": {}
  }
 ]
}